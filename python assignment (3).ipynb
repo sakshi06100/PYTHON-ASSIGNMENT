{
 "cells": [
  {
   "cell_type": "code",
   "execution_count": null,
   "id": "776fa288-e6b1-47b5-9467-5d2edf14e657",
   "metadata": {},
   "outputs": [],
   "source": [
    "### PYTHON ASSIGNMENT"
   ]
  },
  {
   "cell_type": "code",
   "execution_count": null,
   "id": "61f015b3-cb4e-4eba-a0aa-5ab1cd6bdbc4",
   "metadata": {},
   "outputs": [],
   "source": [
    "### 1. Who developed Python Programming Language?\n",
    "##      Guido van Rossum developed Python in the late 1980s."
   ]
  },
  {
   "cell_type": "code",
   "execution_count": null,
   "id": "b4b8fd42-fbd8-4efe-872b-b2974b3ef085",
   "metadata": {},
   "outputs": [],
   "source": [
    "### 2. Which type of Programming does Python support?\n",
    "#     Python supports multiple programming paradigms, including:\n",
    "\n",
    "#     - Object-oriented programming (OOP)\n",
    "#      - Imperative programming\n",
    " #     - Functional programming"
   ]
  },
  {
   "cell_type": "code",
   "execution_count": null,
   "id": "3255879c-8786-424a-aa8d-c55f661cc5fb",
   "metadata": {},
   "outputs": [],
   "source": [
    "### 3. Is Python case sensitive when dealing with identifiers?\n",
    " ### Yes, Python is case sensitive when dealing with identifiers.\n"
   ]
  },
  {
   "cell_type": "code",
   "execution_count": null,
   "id": "32df9d70-cc9e-4a4b-bab2-f0d1bbf14366",
   "metadata": {},
   "outputs": [],
   "source": [
    "#4. What is the correct extension of the Python file?\n",
    "# .py\n"
   ]
  },
  {
   "cell_type": "code",
   "execution_count": null,
   "id": "31cf8639-e0c6-4dd3-a56d-de9032eb41c4",
   "metadata": {},
   "outputs": [],
   "source": [
    "#5. Is Python code compiled or interpreted?\n",
    "#    Python code is interpreted.\n"
   ]
  },
  {
   "cell_type": "code",
   "execution_count": null,
   "id": "182420f7-07c7-4faf-9ccc-3e214f1022b4",
   "metadata": {},
   "outputs": [],
   "source": [
    "#6. Name a few blocks of code used to define in Python language?\n",
    "#- Functions (def)\n",
    "#- Classes (class)\n",
    "#- Loops (for, while)\n",
    "#- Conditional statements (if, elif, else)\n"
   ]
  },
  {
   "cell_type": "code",
   "execution_count": null,
   "id": "7e8f1994-e8be-4ae1-8b33-18dbc2bce790",
   "metadata": {},
   "outputs": [],
   "source": [
    "#7. State a character used to give single-line comments in Python?\n",
    "     #HASHTAG\n"
   ]
  },
  {
   "cell_type": "code",
   "execution_count": null,
   "id": "94e69b2a-7139-41cf-bd57-4b80c3f310c2",
   "metadata": {},
   "outputs": [],
   "source": [
    "#8. Mention functions which can help us to find the version of python that we are currently working on?\n",
    "#- sys.version\n",
    "#- platform.python_version()\n"
   ]
  },
  {
   "cell_type": "code",
   "execution_count": null,
   "id": "4bf9ad85-d2ff-4fa9-8d7b-e848c5c9c442",
   "metadata": {},
   "outputs": [],
   "source": [
    "#9. Python supports the creation of anonymous functions at runtime, using a construct called...\n",
    "#Lambda functions\n"
   ]
  },
  {
   "cell_type": "code",
   "execution_count": null,
   "id": "32e98619-eca5-4b74-b290-dcffe8b82862",
   "metadata": {},
   "outputs": [],
   "source": [
    "#10. What does pip stand for python?\n",
    "#Pip Installs Packages\n"
   ]
  },
  {
   "cell_type": "code",
   "execution_count": null,
   "id": "3bc28ff0-aba8-4a24-a4e2-c91fa5af7a74",
   "metadata": {},
   "outputs": [],
   "source": [
    "#11. Mention a few built-in functions in python?\n",
    "- len()\n",
    "- range()\n",
    "- enumerate()\n",
    "- zip()\n",
    "- max()\n",
    "- min()"
   ]
  },
  {
   "cell_type": "code",
   "execution_count": null,
   "id": "6a8ac70b-129c-4d2c-a730-900d937ac323",
   "metadata": {},
   "outputs": [],
   "source": [
    "#12. What is the maximum possible length of an identifier in Python?\n",
    "#There is no maximum length, but it recommended to keep identifiers short and descriptive.\n"
   ]
  },
  {
   "cell_type": "code",
   "execution_count": null,
   "id": "bc0f7a96-6e2e-4e1a-adb1-9ed5ef796bc2",
   "metadata": {},
   "outputs": [],
   "source": [
    "#13. What are the benefits of using Python?\n",
    "#- Easy to learn and use\n",
    "#- High-level language\n",
    "#- Rapid development\n",
    "#- Large standard library\n",
    "#- Dynamic typing\n",
    "#- Cross-platform compatibility\n"
   ]
  },
  {
   "cell_type": "code",
   "execution_count": null,
   "id": "735da335-54fa-4016-8855-1d78e7db5da1",
   "metadata": {},
   "outputs": [],
   "source": [
    "# 14 how memory managed in python \n",
    "# python uses automatic memory management through garbage collector "
   ]
  },
  {
   "cell_type": "code",
   "execution_count": null,
   "id": "bd12ec02-2096-431f-b7c5-2b61b95fcaaa",
   "metadata": {},
   "outputs": [],
   "source": [
    "#15. How to install Python on Windows and set path variables?\n",
    "#Download the Python installer from the official website, run it, and follow the installation prompts. Then, add the Python installation directory to the system's PATH environment variable.\n"
   ]
  },
  {
   "cell_type": "code",
   "execution_count": null,
   "id": "c2e7a80c-7c23-4196-b243-96fed6da9bf6",
   "metadata": {},
   "outputs": [],
   "source": [
    "#16. Is indentation required in python?\n",
    "#Yes, indentation is required in Python to denote block-level structure."
   ]
  },
  {
   "cell_type": "code",
   "execution_count": null,
   "id": "b4dccce3-4250-4e3d-a031-cf76afa78414",
   "metadata": {},
   "outputs": [],
   "source": []
  },
  {
   "cell_type": "code",
   "execution_count": null,
   "id": "1f398e6b-9756-4d7d-acc6-d568d13bdb23",
   "metadata": {},
   "outputs": [],
   "source": []
  },
  {
   "cell_type": "code",
   "execution_count": null,
   "id": "8a2ff367-cab8-494d-83a5-ba4075bd69b9",
   "metadata": {},
   "outputs": [],
   "source": []
  },
  {
   "cell_type": "code",
   "execution_count": null,
   "id": "2955ecc6-6f04-4022-a92b-8ffa4b4b05a0",
   "metadata": {},
   "outputs": [],
   "source": []
  }
 ],
 "metadata": {
  "kernelspec": {
   "display_name": "Python 3 (ipykernel)",
   "language": "python",
   "name": "python3"
  },
  "language_info": {
   "codemirror_mode": {
    "name": "ipython",
    "version": 3
   },
   "file_extension": ".py",
   "mimetype": "text/x-python",
   "name": "python",
   "nbconvert_exporter": "python",
   "pygments_lexer": "ipython3",
   "version": "3.12.7"
  }
 },
 "nbformat": 4,
 "nbformat_minor": 5
}
